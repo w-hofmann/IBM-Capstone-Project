{
 "cells": [
  {
   "cell_type": "markdown",
   "metadata": {},
   "source": [
    "# IBM Capstone Project\n",
    "This file will hold my code for the IBM Data Science Capstone Project"
   ]
  },
  {
   "cell_type": "markdown",
   "metadata": {},
   "source": [
    "## Introduction\n",
    "As part of the Coursera Data Science Capstone project, I will be using Python and Coursera to analyse the number of Italian restaurants by postcode in the Greater London area.   This is to aid in the understanding of the relative density of restaurants to then inform entrepreneurs as to the area with the greatest opportunity for new restaurants.\n",
    "\n",
    "London has one of the greatest plethora of restaurants in the world, with hundreds of new restaurants opening every month in the capital, however being a highly competitive market, there are also hundreds of restaurants that close every month.  Understanding the \"right\" location to launch a new restaurant is an important decision for any restaurateur.  This piece of analysis will be focused on Italian restaurants, to limit the immediate scope and to test the functionality of the tool, however the analysis could be broadened at a late time to cater to a users desired input cuisine."
   ]
  },
  {
   "cell_type": "markdown",
   "metadata": {},
   "source": [
    "## Data\n",
    "Throughout this analysis I will be using Python and a range of libraries which have been pre-install or added.  The below code inputs the required tools:"
   ]
  },
  {
   "cell_type": "code",
   "execution_count": 4,
   "metadata": {},
   "outputs": [
    {
     "name": "stdout",
     "output_type": "stream",
     "text": [
      "numpy, pandas, ..., imported...\n",
      "geopy installed...\n",
      "Nominatim imported...\n",
      "requests imported...\n",
      "json_normalize imported...\n",
      "matplotlib imported...\n",
      "Kmeans imported...\n",
      "folium installed...\n",
      "folium imported...\n",
      "...Done\n"
     ]
    }
   ],
   "source": [
    "# Import pandas and numpy\n",
    "import pandas as pd\n",
    "import numpy as np\n",
    "pd.set_option('display.max_columns', None)\n",
    "pd.set_option('display.max_rows', None)\n",
    "print('numpy, pandas, ..., imported...')\n",
    "\n",
    "# library for BeautifulSoup, for web scrapping\n",
    "from bs4 import BeautifulSoup\n",
    "\n",
    "# library to handle JSON files\n",
    "import json\n",
    "\n",
    "!pip -q install geopy\n",
    "print('geopy installed...')\n",
    "\n",
    "# convert an address into latitude and longitude values\n",
    "from geopy.geocoders import Nominatim\n",
    "print('Nominatim imported...')\n",
    "\n",
    "# library to handle requests\n",
    "import requests\n",
    "print('requests imported...')\n",
    "\n",
    "# tranform JSON file into a pandas dataframe\n",
    "from pandas.io.json import json_normalize\n",
    "print('json_normalize imported...')\n",
    "\n",
    "# Matplotlib and associated plotting modules\n",
    "import matplotlib.cm as cm\n",
    "import matplotlib.colors as colors\n",
    "print('matplotlib imported...')\n",
    "\n",
    "# import k-means from clustering stage\n",
    "from sklearn.cluster import KMeans\n",
    "print('Kmeans imported...')\n",
    "\n",
    "# install the Geocoder\n",
    "!pip -q install geocoder\n",
    "import geocoder\n",
    "\n",
    "!pip -q install folium\n",
    "print('folium installed...')\n",
    "import folium # map rendering library\n",
    "print('folium imported...')\n",
    "print('...Done')"
   ]
  },
  {
   "cell_type": "markdown",
   "metadata": {},
   "source": [
    "#### Location data\n",
    "This analysis will require data to be accessed from Foursquare, a location data provider.  This includes information about the number, location, ratings and many more details regarding venues across the world.  I will use this information to extract my data, for which I will be focusing on the data associated with London and Italian restaurants (API ID: 4bf58dd8d48988d110941735).  This will enable me to gauge the number of Italian restaurants in the city but then associate it with given postcodes."
   ]
  },
  {
   "cell_type": "markdown",
   "metadata": {},
   "source": [
    "#### London data\n",
    "To filter the data from Foursquare for London, I will need to identify the postcode areas associated with London.  I will use Wikipedia for this.  The attached [webpage](https://en.wikipedia.org/wiki/List_of_areas_of_London) is where I have pulled the information.  However this will need cleansing, which is why I installed BeautifulSoup above (a HTML parsing and editing library)."
   ]
  },
  {
   "cell_type": "code",
   "execution_count": null,
   "metadata": {},
   "outputs": [],
   "source": []
  },
  {
   "cell_type": "code",
   "execution_count": null,
   "metadata": {},
   "outputs": [],
   "source": []
  },
  {
   "cell_type": "code",
   "execution_count": null,
   "metadata": {},
   "outputs": [],
   "source": []
  },
  {
   "cell_type": "code",
   "execution_count": null,
   "metadata": {},
   "outputs": [],
   "source": []
  },
  {
   "cell_type": "code",
   "execution_count": null,
   "metadata": {},
   "outputs": [],
   "source": []
  },
  {
   "cell_type": "code",
   "execution_count": null,
   "metadata": {},
   "outputs": [],
   "source": []
  },
  {
   "cell_type": "code",
   "execution_count": null,
   "metadata": {},
   "outputs": [],
   "source": []
  }
 ],
 "metadata": {
  "kernelspec": {
   "display_name": "Python 3",
   "language": "python",
   "name": "python3"
  },
  "language_info": {
   "codemirror_mode": {
    "name": "ipython",
    "version": 3
   },
   "file_extension": ".py",
   "mimetype": "text/x-python",
   "name": "python",
   "nbconvert_exporter": "python",
   "pygments_lexer": "ipython3",
   "version": "3.6.8"
  }
 },
 "nbformat": 4,
 "nbformat_minor": 2
}
